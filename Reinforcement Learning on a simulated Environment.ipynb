{
 "cells": [
  {
   "cell_type": "code",
   "execution_count": 1,
   "id": "4d0cf523-ab7f-4b38-b903-fb82ae10b14e",
   "metadata": {},
   "outputs": [
    {
     "name": "stdout",
     "output_type": "stream",
     "text": [
      "Requirement already satisfied: gym in /home/kartikey-bartwal/anaconda3/lib/python3.12/site-packages (0.26.2)\n",
      "Requirement already satisfied: numpy>=1.18.0 in /home/kartikey-bartwal/anaconda3/lib/python3.12/site-packages (from gym) (1.26.4)\n",
      "Requirement already satisfied: cloudpickle>=1.2.0 in /home/kartikey-bartwal/anaconda3/lib/python3.12/site-packages (from gym) (3.0.0)\n",
      "Requirement already satisfied: gym_notices>=0.0.4 in /home/kartikey-bartwal/anaconda3/lib/python3.12/site-packages (from gym) (0.0.8)\n",
      "Requirement already satisfied: box2d in /home/kartikey-bartwal/anaconda3/lib/python3.12/site-packages (2.3.10)\n",
      "Requirement already satisfied: pygame in /home/kartikey-bartwal/anaconda3/lib/python3.12/site-packages (2.6.1)\n"
     ]
    }
   ],
   "source": [
    "!pip install gym\n",
    "!pip install box2d \n",
    "!pip install pygame"
   ]
  },
  {
   "cell_type": "code",
   "execution_count": 2,
   "id": "0d519e55-97aa-482e-8e44-a233c7ad0e2c",
   "metadata": {},
   "outputs": [
    {
     "name": "stdout",
     "output_type": "stream",
     "text": [
      "['CartPole-v0', 'CartPole-v1', 'MountainCar-v0', 'MountainCarContinuous-v0', 'Pendulum-v1', 'Acrobot-v1', 'LunarLander-v2', 'LunarLanderContinuous-v2', 'BipedalWalker-v3', 'BipedalWalkerHardcore-v3', 'CarRacing-v2', 'Blackjack-v1', 'FrozenLake-v1', 'FrozenLake8x8-v1', 'CliffWalking-v0', 'Taxi-v3', 'Reacher-v2', 'Reacher-v4', 'Pusher-v2', 'Pusher-v4', 'InvertedPendulum-v2', 'InvertedPendulum-v4', 'InvertedDoublePendulum-v2', 'InvertedDoublePendulum-v4', 'HalfCheetah-v2', 'HalfCheetah-v3', 'HalfCheetah-v4', 'Hopper-v2', 'Hopper-v3', 'Hopper-v4', 'Swimmer-v2', 'Swimmer-v3', 'Swimmer-v4', 'Walker2d-v2', 'Walker2d-v3', 'Walker2d-v4', 'Ant-v2', 'Ant-v3', 'Ant-v4', 'Humanoid-v2', 'Humanoid-v3', 'Humanoid-v4', 'HumanoidStandup-v2', 'HumanoidStandup-v4']\n"
     ]
    }
   ],
   "source": [
    "import gym\n",
    "\n",
    "# List all available environments\n",
    "envs = gym.envs.registry.values()\n",
    "env_names = [env.id for env in envs]\n",
    "print(env_names)"
   ]
  },
  {
   "cell_type": "code",
   "execution_count": null,
   "id": "9f1e69ed-cdc2-4fbf-a8be-d08fd76ff849",
   "metadata": {},
   "outputs": [],
   "source": [
    "import gym\n",
    "import time \n",
    "\n",
    "# Initialize the CarRacing-v2 environment with render_mode specified\n",
    "env = gym.make('CarRacing-v2', render_mode='human')\n",
    "\n",
    "# Reset the environment to start\n",
    "state, info = env.reset()\n",
    "\n",
    "# Display the initial state\n",
    "print(\"Initial State:\", state)\n",
    "\n",
    "env.render()\n",
    "\n",
    "time.sleep(15)\n",
    "\n",
    "env.close()"
   ]
  },
  {
   "cell_type": "code",
   "execution_count": null,
   "id": "17377e65-0c2d-494d-94f2-2dba9718b87c",
   "metadata": {},
   "outputs": [],
   "source": [
    "env.render()"
   ]
  },
  {
   "cell_type": "code",
   "execution_count": null,
   "id": "eaca6bcf-83e8-439b-a43a-84ef230c554d",
   "metadata": {},
   "outputs": [],
   "source": []
  },
  {
   "cell_type": "code",
   "execution_count": null,
   "id": "82fbad4a-4e50-4051-8d4f-e3136b3b5e80",
   "metadata": {},
   "outputs": [],
   "source": []
  },
  {
   "cell_type": "code",
   "execution_count": null,
   "id": "1156fc8f-5be1-4168-a4e7-23c35179e039",
   "metadata": {},
   "outputs": [],
   "source": []
  },
  {
   "cell_type": "code",
   "execution_count": null,
   "id": "6ff5404f-7ee7-4c14-a4ca-67c0dee189a8",
   "metadata": {},
   "outputs": [],
   "source": []
  }
 ],
 "metadata": {
  "kernelspec": {
   "display_name": "Python 3 (ipykernel)",
   "language": "python",
   "name": "python3"
  },
  "language_info": {
   "codemirror_mode": {
    "name": "ipython",
    "version": 3
   },
   "file_extension": ".py",
   "mimetype": "text/x-python",
   "name": "python",
   "nbconvert_exporter": "python",
   "pygments_lexer": "ipython3",
   "version": "3.12.7"
  }
 },
 "nbformat": 4,
 "nbformat_minor": 5
}
